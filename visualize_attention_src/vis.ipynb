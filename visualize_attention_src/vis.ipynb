{
 "cells": [
  {
   "cell_type": "code",
   "execution_count": 2,
   "metadata": {},
   "outputs": [],
   "source": [
    "import torch\n",
    "import os\n",
    "from PIL import Image\n",
    "import numpy as np\n",
    "from ipycanvas import Canvas\n",
    "import cv2\n",
    "\n",
    "# import os, sys\n",
    "# sys.path.append('/home/khshim/workspace/sd/vsp')\n",
    "from utils import get_image\n",
    "\n",
    "\n",
    "style_name = \"line_art\"\n",
    "src_name = \"cat\"\n",
    "tgt_name = \"dog\"\n",
    "\n",
    "steps = [\"20\"]\n",
    "seed = \"4\"\n",
    "saved_dtype = \"tensor\""
   ]
  },
  {
   "cell_type": "code",
   "execution_count": 3,
   "metadata": {},
   "outputs": [],
   "source": [
    "exp_dir = \"/data/khshim/attention_map/\"\n",
    "attn_map_name_wo_ext = f\"An airplane ready to take off_src_ref_totoro_totoro holding a tiny umbrella in the rain\"\n",
    "attn_map_paired_rgb_grid_name = f\"An airplane ready to take off_from_ref_totoro_totoro holding a tiny umbrella in the rain\"+\".png\""
   ]
  },
  {
   "cell_type": "code",
   "execution_count": 4,
   "metadata": {},
   "outputs": [],
   "source": [
    "# exp_dir = \"/data/khshim/attention_map/prev\"\n",
    "# attn_map_name_wo_ext = f\"attn_map_raw_craft_clay_src_cat_tgt_dog_activate_layer_(0, 0)(108, 140)_attn_map_step_20_seed_1\"\n",
    "# attn_map_paired_rgb_grid_name = f\"craft_clay_src_cat_tgt_dog_activate_layer_(0, 0)(108, 140)_seed_1.png\""
   ]
  },
  {
   "cell_type": "code",
   "execution_count": 5,
   "metadata": {},
   "outputs": [
    {
     "name": "stdout",
     "output_type": "stream",
     "text": [
      "/data/khshim/attention_map/An airplane ready to take off_src_ref_totoro_totoro holding a tiny umbrella in the rain.pt\n",
      "20 is on memory\n",
      "32\n"
     ]
    }
   ],
   "source": [
    "attn_map_raws = []\n",
    "for step in steps:\n",
    "    # attn_map_name_wo_ext = f\"attn_map_raw_{style_name}_src_{src_name}_tgt_{tgt_name}_activate_layer_(0, 0)(108, 140)_attn_map_step_{step}_seed_{seed}\"  # new\n",
    "\n",
    "    if saved_dtype == 'uint8':\n",
    "        attn_map_name = attn_map_name_wo_ext + '_uint8.npy'\n",
    "        attn_map_path = os.path.join(exp_dir, attn_map_name)\n",
    "        attn_map_raws.append(np.load(attn_map_path, allow_pickle=True))\n",
    "\n",
    "    else:\n",
    "        attn_map_name = attn_map_name_wo_ext + '.pt'\n",
    "        attn_map_path = os.path.join(exp_dir, attn_map_name)\n",
    "        attn_map_raws.append(torch.load(attn_map_path))\n",
    "        print(attn_map_path)\n",
    "\n",
    "    attn_map_path = os.path.join(exp_dir, attn_map_name)\n",
    "\n",
    "    print(f\"{step} is on memory\")\n",
    "\n",
    "keys = [key for key in attn_map_raws[0].keys()]\n",
    "\n",
    "\n",
    "print(len(keys))\n",
    "key = keys[0]"
   ]
  },
  {
   "cell_type": "code",
   "execution_count": 7,
   "metadata": {},
   "outputs": [
    {
     "name": "stdout",
     "output_type": "stream",
     "text": [
      "/data/khshim/attention_map/An airplane ready to take off_from_ref_totoro_totoro holding a tiny umbrella in the rain.png\n"
     ]
    }
   ],
   "source": [
    "\n",
    "########################\n",
    "tgt_idx = 3 # indicating the location of generated images.\n",
    "\n",
    "# attn_map_paired_rgb_grid_name = f\"{style_name}_src_{src_name}_tgt_{tgt_name}_scale_1.0_activate_layer_(0, 0)(108, 140)_seed_{seed}.png\"\n",
    "\n",
    "\n",
    "attn_map_paired_rgb_grid_path = os.path.join(exp_dir, attn_map_paired_rgb_grid_name)\n",
    "print(attn_map_paired_rgb_grid_path)\n",
    "attn_map_paired_rgb_grid = Image.open(attn_map_paired_rgb_grid_path)\n",
    "\n",
    "attn_map_src_img = get_image(attn_map_paired_rgb_grid, row = 0, col = 0, image_size = 1024, grid_width = 10)\n",
    "attn_map_tgt_img = get_image(attn_map_paired_rgb_grid, row = 0, col = tgt_idx, image_size = 1024, grid_width = 10)\n",
    "\n",
    "\n",
    "h, w = 256, 256\n",
    "num_of_grid = 64\n",
    "\n",
    "plus_50 = 0\n",
    "\n",
    "# key_idx_list = [0,2,4,6,8,10]\n",
    "key_idx_list = [6, 28]\n",
    "# (108 -> 0, 109 -> 1, ... , 140 -> 32)\n",
    "# if Swapping Attentio nin (108, 140) layer , use key_idx_list = [6, 28].\n",
    "# 6==early upblock, 28==late upblock\n",
    "\n",
    "saved_attention_map_idx = [0]\n",
    "\n",
    "source_image = attn_map_src_img\n",
    "target_image = attn_map_tgt_img\n",
    "\n",
    "# resize\n",
    "source_image = source_image.resize((h, w))\n",
    "target_image = target_image.resize((h, w))\n",
    "\n",
    "# convert to numpy array\n",
    "source_image = np.array(source_image)\n",
    "target_image = np.array(target_image)\n",
    "\n",
    "canvas = Canvas(width=4 * w, height=h * len(key_idx_list), sync_image_data=True)\n",
    "canvas.put_image_data(source_image, w * 3, 0)\n",
    "canvas.put_image_data(target_image, 0, 0)\n",
    "\n",
    "canvas.put_image_data(source_image, w * 3, h)\n",
    "canvas.put_image_data(target_image, 0, h)\n",
    "\n",
    "\n",
    "def save_to_file(*args, **kwargs):\n",
    "    canvas.to_file(\"my_file1.png\")\n",
    "\n",
    "\n",
    "# Listen to changes on the ``image_data`` trait and call ``save_to_file`` when it changes.\n",
    "canvas.observe(save_to_file, \"image_data\")\n",
    "\n",
    "\n",
    "def on_click(x, y):\n",
    "    cnt = 0\n",
    "    canvas.put_image_data(target_image, 0, 0)\n",
    "\n",
    "    print(x, y)\n",
    "    # draw a point\n",
    "    canvas.fill_style = 'red'\n",
    "    canvas.fill_circle(x, y, 4)\n",
    "\n",
    "    for step_i, step in enumerate(range(len(saved_attention_map_idx))):\n",
    "\n",
    "        attn_map_raw = attn_map_raws[step_i]\n",
    "\n",
    "        for key_i, key_idx in enumerate(key_idx_list):\n",
    "            key = keys[key_idx]\n",
    "\n",
    "            num_of_grid = int(attn_map_raw[key].shape[-1] ** (0.5))\n",
    "\n",
    "            # normalize x,y\n",
    "            grid_x_idx = int(x / (w / num_of_grid))\n",
    "            grid_y_idx = int(y / (h / num_of_grid))\n",
    "\n",
    "            print(grid_x_idx, grid_y_idx)\n",
    "\n",
    "            grid_idx = grid_x_idx + grid_y_idx * num_of_grid\n",
    "\n",
    "            attn_map = attn_map_raw[key][tgt_idx * 10:10 + tgt_idx * 10, grid_idx, :]\n",
    "\n",
    "            attn_map = attn_map.sum(dim=0)\n",
    "\n",
    "            attn_map = attn_map.reshape(num_of_grid, num_of_grid)\n",
    "\n",
    "            # process attn_map to pil\n",
    "            attn_map = attn_map.detach().cpu().numpy()\n",
    "            # attn_map = attn_map / attn_map.max()\n",
    "            # normalized_attn_map = attn_map\n",
    "            normalized_attn_map = (attn_map - attn_map.min()) / (attn_map.max() - attn_map.min() + 1e-8)\n",
    "            normalized_attn_map = 1.0 - normalized_attn_map\n",
    "\n",
    "            heatmap = cv2.applyColorMap(np.uint8(255 * normalized_attn_map), cv2.COLORMAP_JET)\n",
    "            heatmap = cv2.resize(heatmap, (w, h))\n",
    "\n",
    "            attn_map = normalized_attn_map * 255\n",
    "\n",
    "            attn_map = attn_map.astype(np.uint8)\n",
    "\n",
    "            attn_map = cv2.cvtColor(attn_map, cv2.COLOR_GRAY2RGB)\n",
    "            # attn_map = cv2.cvtColor(attn_map, cv2.COLORMAP_JET)\n",
    "            attn_map = cv2.resize(attn_map, (w, h))\n",
    "\n",
    "            # draw attn_map\n",
    "            canvas.put_image_data(attn_map, w + step_i * 4 * w, h * key_i)\n",
    "            # canvas.put_image_data(attn_map, w , h*key_i)\n",
    "\n",
    "            # blend attn_map and target image\n",
    "            alpha = 0.85\n",
    "            blended_image = cv2.addWeighted(source_image, 1 - alpha, heatmap, alpha, 0)\n",
    "\n",
    "            # draw blended image\n",
    "            canvas.put_image_data(blended_image, w * 2 + step_i * 4 * w, h * key_i)\n",
    "\n",
    "    cnt += 1\n",
    "\n",
    "    # Attach the event handler to the canvas\n",
    "\n",
    "\n",
    "canvas.on_mouse_down(on_click)\n"
   ]
  },
  {
   "cell_type": "code",
   "execution_count": 8,
   "metadata": {},
   "outputs": [
    {
     "data": {
      "application/vnd.jupyter.widget-view+json": {
       "model_id": "e19f8bf4f0e949b9b13f5d363b9fc125",
       "version_major": 2,
       "version_minor": 0
      },
      "text/plain": [
       "Canvas(height=512, image_data=b'\\x89PNG\\r\\n\\x1a\\n\\x00\\x00\\x00\\rIHDR\\x00\\x00\\x04\\x00\\x00\\x00\\x02\\x00\\x08\\x06\\x0…"
      ]
     },
     "execution_count": 8,
     "metadata": {},
     "output_type": "execute_result"
    }
   ],
   "source": [
    "# Display the canvas\n",
    "canvas"
   ]
  },
  {
   "cell_type": "code",
   "execution_count": null,
   "metadata": {},
   "outputs": [],
   "source": []
  },
  {
   "cell_type": "code",
   "execution_count": null,
   "metadata": {},
   "outputs": [],
   "source": []
  }
 ],
 "metadata": {
  "kernelspec": {
   "display_name": "Python 3 (ipykernel)",
   "language": "python",
   "name": "python3"
  },
  "language_info": {
   "codemirror_mode": {
    "name": "ipython",
    "version": 3
   },
   "file_extension": ".py",
   "mimetype": "text/x-python",
   "name": "python",
   "nbconvert_exporter": "python",
   "pygments_lexer": "ipython3",
   "version": "3.9.20"
  }
 },
 "nbformat": 4,
 "nbformat_minor": 4
}
